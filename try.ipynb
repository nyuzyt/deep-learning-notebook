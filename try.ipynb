{
 "cells": [
  {
   "cell_type": "code",
   "execution_count": 2,
   "metadata": {},
   "outputs": [
    {
     "name": "stderr",
     "output_type": "stream",
     "text": [
      "Using TensorFlow backend.\n"
     ]
    }
   ],
   "source": [
    "from keras.layers.core import Dense, Activation, Dropout\n",
    "from keras.layers.recurrent import LSTM\n",
    "from keras.models import Sequential\n",
    "import time\n",
    "import warnings\n",
    "import numpy as np\n",
    "from numpy import newaxis\n",
    "import matplotlib.pyplot as plt"
   ]
  },
  {
   "cell_type": "code",
   "execution_count": 3,
   "metadata": {
    "collapsed": true
   },
   "outputs": [],
   "source": [
    "def normalise_windows(window_data):\n",
    "    normalised_data = []\n",
    "    for window in window_data:\n",
    "        normalised_window = [((float(p) / float(window[0])) - 1) for p in window]\n",
    "        normalised_data.append(normalised_window)\n",
    "    return normalised_data"
   ]
  },
  {
   "cell_type": "code",
   "execution_count": 5,
   "metadata": {},
   "outputs": [
    {
     "name": "stdout",
     "output_type": "stream",
     "text": [
      "4121 51\n",
      "3709\n",
      "[[ 0.         -0.00645053 -0.01055618 -0.03584306 -0.03100716 -0.07734483\n",
      "  -0.07787528 -0.13932056 -0.09851846 -0.13832104 -0.0984339  -0.09369016\n",
      "  -0.07394654 -0.08296496 -0.08209617 -0.12302891 -0.13619135 -0.13596846\n",
      "  -0.10634524 -0.09462051 -0.10871322 -0.09523553 -0.06964878 -0.06746523\n",
      "  -0.06287531 -0.07400032 -0.09741139 -0.1041233  -0.0784596  -0.08823915\n",
      "  -0.11258817 -0.10640671 -0.09825709 -0.08610177 -0.07039453 -0.06508955\n",
      "  -0.0742541  -0.07579176 -0.10295465 -0.13155526 -0.12627337 -0.10588396\n",
      "  -0.0963273  -0.11502532 -0.10784443 -0.13012524 -0.15487407 -0.1358685\n",
      "  -0.12043025 -0.1043309 ]\n",
      " [ 0.         -0.00106586  0.01040381  0.01316754  0.00741382  0.01410133\n",
      "   0.01537468  0.02735384  0.02686334  0.0309003   0.03380555  0.03193796\n",
      "   0.03368292  0.04650147  0.04665242  0.04880302  0.04555823  0.05851828\n",
      "   0.05988604  0.06239497  0.06766774  0.05817873  0.0632439   0.05757505\n",
      "   0.06634719  0.06779037  0.07512866  0.07412889  0.0824765   0.07900534\n",
      "   0.07675111  0.08978658  0.0791092   0.06442295  0.06973337  0.06692255\n",
      "   0.07081812  0.07154443  0.06257424  0.06452669  0.07789239  0.07510989\n",
      "   0.08051461  0.09204093  0.08671162  0.0807693   0.09131462  0.08643805\n",
      "   0.08194835  0.07916573]]\n",
      "[[[ 0.        ]\n",
      "  [-0.00645053]\n",
      "  [-0.01055618]\n",
      "  [-0.03584306]\n",
      "  [-0.03100716]\n",
      "  [-0.07734483]\n",
      "  [-0.07787528]\n",
      "  [-0.13932056]\n",
      "  [-0.09851846]\n",
      "  [-0.13832104]\n",
      "  [-0.0984339 ]\n",
      "  [-0.09369016]\n",
      "  [-0.07394654]\n",
      "  [-0.08296496]\n",
      "  [-0.08209617]\n",
      "  [-0.12302891]\n",
      "  [-0.13619135]\n",
      "  [-0.13596846]\n",
      "  [-0.10634524]\n",
      "  [-0.09462051]\n",
      "  [-0.10871322]\n",
      "  [-0.09523553]\n",
      "  [-0.06964878]\n",
      "  [-0.06746523]\n",
      "  [-0.06287531]\n",
      "  [-0.07400032]\n",
      "  [-0.09741139]\n",
      "  [-0.1041233 ]\n",
      "  [-0.0784596 ]\n",
      "  [-0.08823915]\n",
      "  [-0.11258817]\n",
      "  [-0.10640671]\n",
      "  [-0.09825709]\n",
      "  [-0.08610177]\n",
      "  [-0.07039453]\n",
      "  [-0.06508955]\n",
      "  [-0.0742541 ]\n",
      "  [-0.07579176]\n",
      "  [-0.10295465]\n",
      "  [-0.13155526]\n",
      "  [-0.12627337]\n",
      "  [-0.10588396]\n",
      "  [-0.0963273 ]\n",
      "  [-0.11502532]\n",
      "  [-0.10784443]\n",
      "  [-0.13012524]\n",
      "  [-0.15487407]\n",
      "  [-0.1358685 ]\n",
      "  [-0.12043025]\n",
      "  [-0.1043309 ]]\n",
      "\n",
      " [[ 0.        ]\n",
      "  [-0.00106586]\n",
      "  [ 0.01040381]\n",
      "  [ 0.01316754]\n",
      "  [ 0.00741382]\n",
      "  [ 0.01410133]\n",
      "  [ 0.01537468]\n",
      "  [ 0.02735384]\n",
      "  [ 0.02686334]\n",
      "  [ 0.0309003 ]\n",
      "  [ 0.03380555]\n",
      "  [ 0.03193796]\n",
      "  [ 0.03368292]\n",
      "  [ 0.04650147]\n",
      "  [ 0.04665242]\n",
      "  [ 0.04880302]\n",
      "  [ 0.04555823]\n",
      "  [ 0.05851828]\n",
      "  [ 0.05988604]\n",
      "  [ 0.06239497]\n",
      "  [ 0.06766774]\n",
      "  [ 0.05817873]\n",
      "  [ 0.0632439 ]\n",
      "  [ 0.05757505]\n",
      "  [ 0.06634719]\n",
      "  [ 0.06779037]\n",
      "  [ 0.07512866]\n",
      "  [ 0.07412889]\n",
      "  [ 0.0824765 ]\n",
      "  [ 0.07900534]\n",
      "  [ 0.07675111]\n",
      "  [ 0.08978658]\n",
      "  [ 0.0791092 ]\n",
      "  [ 0.06442295]\n",
      "  [ 0.06973337]\n",
      "  [ 0.06692255]\n",
      "  [ 0.07081812]\n",
      "  [ 0.07154443]\n",
      "  [ 0.06257424]\n",
      "  [ 0.06452669]\n",
      "  [ 0.07789239]\n",
      "  [ 0.07510989]\n",
      "  [ 0.08051461]\n",
      "  [ 0.09204093]\n",
      "  [ 0.08671162]\n",
      "  [ 0.0807693 ]\n",
      "  [ 0.09131462]\n",
      "  [ 0.08643805]\n",
      "  [ 0.08194835]\n",
      "  [ 0.07916573]]]\n"
     ]
    }
   ],
   "source": [
    "#Step 1 Load Data\n",
    "f = open('sp500.csv', 'r').read()\n",
    "data = f.split('\\n')\n",
    "\n",
    "seq_len=50 \n",
    "normalise_window=True\n",
    "sequence_length = seq_len + 1\n",
    "result = []\n",
    "for index in range(len(data) - sequence_length):\n",
    "    result.append(data[index: index + sequence_length])\n",
    "\n",
    "#every element in result is a sequence_length list\n",
    "#print(result[1])\n",
    "\n",
    "if normalise_window:\n",
    "    result = normalise_windows(result)\n",
    "    \n",
    "result = np.array(result)\n",
    "print(result.shape[0],result.shape[1])\n",
    "\n",
    "row = round(0.9 * result.shape[0])\n",
    "print(row)\n",
    "\n",
    "train = result[:int(row), :]\n",
    "np.random.shuffle(train)\n",
    "x_train = train[:, :-1]\n",
    "y_train = train[:, -1]\n",
    "\n",
    "x_test = result[int(row):, :-1]\n",
    "y_test = result[int(row):, -1]\n",
    "print(x_train[:2])\n",
    "\n",
    "x_train = np.reshape(x_train, (x_train.shape[0], x_train.shape[1], 1))\n",
    "x_test = np.reshape(x_test, (x_test.shape[0], x_test.shape[1], 1))\n",
    "print(x_train[:2])"
   ]
  },
  {
   "cell_type": "code",
   "execution_count": 50,
   "metadata": {},
   "outputs": [
    {
     "name": "stderr",
     "output_type": "stream",
     "text": [
      "C:\\Users\\DELL\\Anaconda3\\envs\\tensorflow\\lib\\site-packages\\ipykernel\\__main__.py:7: UserWarning: The `input_dim` and `input_length` arguments in recurrent layers are deprecated. Use `input_shape` instead.\n",
      "C:\\Users\\DELL\\Anaconda3\\envs\\tensorflow\\lib\\site-packages\\ipykernel\\__main__.py:7: UserWarning: Update your `LSTM` call to the Keras 2 API: `LSTM(return_sequences=True, units=200, input_shape=(None, 1))`\n"
     ]
    },
    {
     "name": "stdout",
     "output_type": "stream",
     "text": [
      "compilation time :  0.02905130386352539\n"
     ]
    },
    {
     "name": "stderr",
     "output_type": "stream",
     "text": [
      "C:\\Users\\DELL\\Anaconda3\\envs\\tensorflow\\lib\\site-packages\\ipykernel\\__main__.py:21: UserWarning: Update your `Dense` call to the Keras 2 API: `Dense(units=1)`\n"
     ]
    }
   ],
   "source": [
    "#Step 2 Build Model\n",
    "model = Sequential()\n",
    "\n",
    "model.add(LSTM(\n",
    "    input_dim=1,\n",
    "    output_dim=50,\n",
    "    return_sequences=True))\n",
    "model.add(Dropout(0.2))\n",
    "\n",
    "model.add(LSTM(\n",
    "    100,\n",
    "    return_sequences=False))\n",
    "model.add(Dropout(0.2))\n",
    "\n",
    "model.add(Dense(\n",
    "    output_dim=1))\n",
    "model.add(Activation('linear'))\n",
    "\n",
    "start = time.time()\n",
    "model.compile(loss='mse', optimizer='rmsprop')\n",
    "print ('compilation time : ', time.time() - start)"
   ]
  },
  {
   "cell_type": "code",
   "execution_count": 46,
   "metadata": {},
   "outputs": [
    {
     "name": "stdout",
     "output_type": "stream",
     "text": [
      "Train on 3523 samples, validate on 186 samples\n",
      "Epoch 1/3\n",
      "3523/3523 [==============================] - 23s - loss: 0.0034 - val_loss: 0.0021\n",
      "Epoch 2/3\n",
      "3523/3523 [==============================] - 21s - loss: 0.0013 - val_loss: 0.0012\n",
      "Epoch 3/3\n",
      "3523/3523 [==============================] - 21s - loss: 9.7810e-04 - val_loss: 0.0011\n"
     ]
    },
    {
     "data": {
      "text/plain": [
       "<keras.callbacks.History at 0x1793654cb38>"
      ]
     },
     "execution_count": 46,
     "metadata": {},
     "output_type": "execute_result"
    }
   ],
   "source": [
    "#Step 3 Train the model\n",
    "model.fit(\n",
    "    x_train,\n",
    "    y_train,\n",
    "    batch_size=512,\n",
    "    epochs=3,\n",
    "    validation_split=0.05)"
   ]
  },
  {
   "cell_type": "code",
   "execution_count": 47,
   "metadata": {},
   "outputs": [
    {
     "data": {
      "text/plain": [
       "412"
      ]
     },
     "execution_count": 47,
     "metadata": {},
     "output_type": "execute_result"
    }
   ],
   "source": [
    "len(x_test)"
   ]
  },
  {
   "cell_type": "code",
   "execution_count": 48,
   "metadata": {},
   "outputs": [
    {
     "name": "stdout",
     "output_type": "stream",
     "text": [
      "0.5097087378640777\n"
     ]
    }
   ],
   "source": [
    "correct = 0\n",
    "prediction_seqs = []\n",
    "for i in range(len(x_test)-1):\n",
    "    curr_frame = x_test[i]\n",
    "    predicted = []\n",
    "    predict = model.predict(curr_frame[newaxis,:,:])[0,0]\n",
    "    predicted.append(predict)\n",
    "    difference_true = y_test[i+1] - y_test[i]\n",
    "    difference_predict = predict - y_test[i]\n",
    "    if (difference_true>0 and difference_predict >0) or (difference_true<0 and difference_predict<0):\n",
    "        correct += 1\n",
    "    prediction_seqs.append(predicted)\n",
    "predictions = prediction_seqs\n",
    "\n",
    "print(float(correct/len(x_test)))"
   ]
  },
  {
   "cell_type": "code",
   "execution_count": 49,
   "metadata": {},
   "outputs": [
    {
     "data": {
      "image/png": "[encoded data removed]",
      "text/plain": [
       "<matplotlib.figure.Figure at 0x1792ce2ac18>"
      ]
     },
     "metadata": {},
     "output_type": "display_data"
    }
   ],
   "source": [
    "fig = plt.figure(facecolor='white')\n",
    "ax = fig.add_subplot(111)\n",
    "ax.plot(y_test, label='True Data')\n",
    "ax.plot(predictions, label='Prediction')\n",
    "plt.show()"
   ]
  },
  {
   "cell_type": "code",
   "execution_count": null,
   "metadata": {
    "collapsed": true
   },
   "outputs": [],
   "source": [
    "#Step 4 - Plot the predictions!\n",
    "window_size = 50\n",
    "prediction_len = 5\n",
    "#Predict sequence of 50 steps before shifting prediction run forward by 50 steps\n",
    "prediction_seqs = []\n",
    "for i in range(int(len(x_test)/prediction_len)):\n",
    "    curr_frame = x_test[i*prediction_len]\n",
    "    predicted = []\n",
    "    for j in range(1):\n",
    "        predicted.append(model.predict(curr_frame[newaxis,:,:])[0,0])\n",
    "        curr_frame = curr_frame[1:]\n",
    "        curr_frame = np.insert(curr_frame, [window_size-1], predicted[-1], axis=0)\n",
    "    prediction_seqs.append(predicted)\n",
    "predictions = prediction_seqs\n",
    "\n",
    "correct = 0\n",
    "for i in range(int(len(x_test)/prediction_len)):\n",
    "    last_frame = i * prediction_len\n",
    "    difference_true = y_test[last_frame+1] - y_test[last_frame]\n",
    "    difference_predict = predictions[i][0] - y_test[last_frame]\n",
    "    if (difference_true>0 and difference_predict >0) or (difference_true<0 and difference_predict<0):\n",
    "        correct += 1\n",
    "print(float(correct/len(predictions)))"
   ]
  },
  {
   "cell_type": "code",
   "execution_count": 99,
   "metadata": {},
   "outputs": [
    {
     "name": "stdout",
     "output_type": "stream",
     "text": [
      "yo\n"
     ]
    },
    {
     "data": {
      "image/png": "[encoded data removed]",
      "text/plain": [
       "<matplotlib.figure.Figure at 0x244979b0828>"
      ]
     },
     "metadata": {},
     "output_type": "display_data"
    }
   ],
   "source": [
    "fig = plt.figure(facecolor='white')\n",
    "ax = fig.add_subplot(111)\n",
    "ax.plot(y_test, label='True Data')\n",
    "print('yo')\n",
    "#Pad the list of predictions to shift it in the graph to it's correct start\n",
    "for i, data in enumerate(predictions):\n",
    "    padding = [None for p in range(i * prediction_len-1)]\n",
    "    plt.plot(padding + [y_test[i*prediction_len-1]] + data, label='')\n",
    "    plt.legend()\n",
    "plt.show()"
   ]
  },
  {
   "cell_type": "code",
   "execution_count": 88,
   "metadata": {},
   "outputs": [
    {
     "name": "stdout",
     "output_type": "stream",
     "text": [
      "[None, None, None, None, None, None, None, None, None]\n"
     ]
    }
   ],
   "source": [
    "test = [1,2,3,4,5,6,7,8,9]\n",
    "a = [None for x in range(9)]\n",
    "print(a)"
   ]
  },
  {
   "cell_type": "code",
   "execution_count": null,
   "metadata": {
    "collapsed": true
   },
   "outputs": [],
   "source": []
  }
 ],
 "metadata": {
  "kernelspec": {
   "display_name": "Python 3",
   "language": "python",
   "name": "python3"
  },
  "language_info": {
   "codemirror_mode": {
    "name": "ipython",
    "version": 3
   },
   "file_extension": ".py",
   "mimetype": "text/x-python",
   "name": "python",
   "nbconvert_exporter": "python",
   "pygments_lexer": "ipython3",
   "version": "3.5.3"
  }
 },
 "nbformat": 4,
 "nbformat_minor": 2
}

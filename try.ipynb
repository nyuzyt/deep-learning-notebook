{
 "cells": [
  {
   "cell_type": "code",
   "execution_count": 15,
   "metadata": {},
   "outputs": [],
   "source": [
    "from keras.layers.core import Dense, Activation, Dropout\n",
    "from keras.layers.recurrent import LSTM\n",
    "from keras.models import Sequential\n",
    "import time\n",
    "import warnings\n",
    "import numpy as np\n",
    "from numpy import newaxis\n",
    "import matplotlib.pyplot as plt"
   ]
  },
  {
   "cell_type": "code",
   "execution_count": 19,
   "metadata": {
    "collapsed": true
   },
   "outputs": [],
   "source": [
    "def normalise_windows(window_data):\n",
    "    normalised_data = []\n",
    "    for window in window_data:\n",
    "        normalised_window = [((float(p) / float(window[0])) - 1) for p in window]\n",
    "        normalised_data.append(normalised_window)\n",
    "    return normalised_data"
   ]
  },
  {
   "cell_type": "code",
   "execution_count": 34,
   "metadata": {},
   "outputs": [
    {
     "name": "stdout",
     "output_type": "stream",
     "text": [
      "4121 51\n",
      "3709\n",
      "[[ 0.          0.00171696 -0.00639333 -0.00317798  0.00156764  0.00456435\n",
      "   0.00442043  0.00306603  0.00494298 -0.00408984  0.00150366  0.00012797\n",
      "   0.00164764  0.01133631  0.01176285  0.00700655 -0.00242085  0.00131704\n",
      "   0.00516689 -0.00136508  0.00673994  0.00911809  0.01340522  0.01947329\n",
      "   0.01833753  0.02380306  0.02569062  0.02643714  0.0260479   0.02798884\n",
      "   0.03469675  0.03948508  0.04046092  0.04020498  0.03652574  0.02917791\n",
      "   0.03240394  0.03326775  0.0355126   0.0435056   0.04483865  0.04664629\n",
      "   0.04650764  0.03977304  0.04486534  0.04363357  0.04562781  0.04523857\n",
      "   0.05221843  0.05291165]\n",
      " [ 0.          0.02001002  0.05338718  0.05708669  0.05145594  0.02866551\n",
      "   0.0698605   0.08222715  0.08050538  0.10601813  0.09058016  0.10445918\n",
      "   0.1199786   0.09457051  0.10281886  0.08754377  0.0678246   0.06774315\n",
      "   0.06573054  0.02146424  0.03935691  0.02277885  0.03996181  0.05047874\n",
      "   0.05818026  0.05802902  0.03180656  0.03518037  0.03668109  0.01622906\n",
      "   0.01150577 -0.0189048  -0.01649661 -0.03009644 -0.04686067 -0.02316278\n",
      "  -0.00537477 -0.0374606  -0.05152574 -0.01356496 -0.03683241 -0.04725618\n",
      "  -0.06862732 -0.08642691 -0.070989   -0.09633886 -0.0647417  -0.02821178\n",
      "  -0.02109195  0.0252452 ]]\n",
      "[[[ 0.        ]\n",
      "  [ 0.00171696]\n",
      "  [-0.00639333]\n",
      "  [-0.00317798]\n",
      "  [ 0.00156764]\n",
      "  [ 0.00456435]\n",
      "  [ 0.00442043]\n",
      "  [ 0.00306603]\n",
      "  [ 0.00494298]\n",
      "  [-0.00408984]\n",
      "  [ 0.00150366]\n",
      "  [ 0.00012797]\n",
      "  [ 0.00164764]\n",
      "  [ 0.01133631]\n",
      "  [ 0.01176285]\n",
      "  [ 0.00700655]\n",
      "  [-0.00242085]\n",
      "  [ 0.00131704]\n",
      "  [ 0.00516689]\n",
      "  [-0.00136508]\n",
      "  [ 0.00673994]\n",
      "  [ 0.00911809]\n",
      "  [ 0.01340522]\n",
      "  [ 0.01947329]\n",
      "  [ 0.01833753]\n",
      "  [ 0.02380306]\n",
      "  [ 0.02569062]\n",
      "  [ 0.02643714]\n",
      "  [ 0.0260479 ]\n",
      "  [ 0.02798884]\n",
      "  [ 0.03469675]\n",
      "  [ 0.03948508]\n",
      "  [ 0.04046092]\n",
      "  [ 0.04020498]\n",
      "  [ 0.03652574]\n",
      "  [ 0.02917791]\n",
      "  [ 0.03240394]\n",
      "  [ 0.03326775]\n",
      "  [ 0.0355126 ]\n",
      "  [ 0.0435056 ]\n",
      "  [ 0.04483865]\n",
      "  [ 0.04664629]\n",
      "  [ 0.04650764]\n",
      "  [ 0.03977304]\n",
      "  [ 0.04486534]\n",
      "  [ 0.04363357]\n",
      "  [ 0.04562781]\n",
      "  [ 0.04523857]\n",
      "  [ 0.05221843]\n",
      "  [ 0.05291165]]\n",
      "\n",
      " [[ 0.        ]\n",
      "  [ 0.02001002]\n",
      "  [ 0.05338718]\n",
      "  [ 0.05708669]\n",
      "  [ 0.05145594]\n",
      "  [ 0.02866551]\n",
      "  [ 0.0698605 ]\n",
      "  [ 0.08222715]\n",
      "  [ 0.08050538]\n",
      "  [ 0.10601813]\n",
      "  [ 0.09058016]\n",
      "  [ 0.10445918]\n",
      "  [ 0.1199786 ]\n",
      "  [ 0.09457051]\n",
      "  [ 0.10281886]\n",
      "  [ 0.08754377]\n",
      "  [ 0.0678246 ]\n",
      "  [ 0.06774315]\n",
      "  [ 0.06573054]\n",
      "  [ 0.02146424]\n",
      "  [ 0.03935691]\n",
      "  [ 0.02277885]\n",
      "  [ 0.03996181]\n",
      "  [ 0.05047874]\n",
      "  [ 0.05818026]\n",
      "  [ 0.05802902]\n",
      "  [ 0.03180656]\n",
      "  [ 0.03518037]\n",
      "  [ 0.03668109]\n",
      "  [ 0.01622906]\n",
      "  [ 0.01150577]\n",
      "  [-0.0189048 ]\n",
      "  [-0.01649661]\n",
      "  [-0.03009644]\n",
      "  [-0.04686067]\n",
      "  [-0.02316278]\n",
      "  [-0.00537477]\n",
      "  [-0.0374606 ]\n",
      "  [-0.05152574]\n",
      "  [-0.01356496]\n",
      "  [-0.03683241]\n",
      "  [-0.04725618]\n",
      "  [-0.06862732]\n",
      "  [-0.08642691]\n",
      "  [-0.070989  ]\n",
      "  [-0.09633886]\n",
      "  [-0.0647417 ]\n",
      "  [-0.02821178]\n",
      "  [-0.02109195]\n",
      "  [ 0.0252452 ]]]\n"
     ]
    }
   ],
   "source": [
    "#Step 1 Load Data\n",
    "f = open('sp500.csv', 'r').read()\n",
    "data = f.split('\\n')\n",
    "\n",
    "seq_len=50 \n",
    "normalise_window=True\n",
    "sequence_length = seq_len + 1\n",
    "result = []\n",
    "for index in range(len(data) - sequence_length):\n",
    "    result.append(data[index: index + sequence_length])\n",
    "\n",
    "#every element in result is a sequence_length list\n",
    "#print(result[1])\n",
    "\n",
    "if normalise_window:\n",
    "    result = normalise_windows(result)\n",
    "    \n",
    "result = np.array(result)\n",
    "print(result.shape[0],result.shape[1])\n",
    "\n",
    "row = round(0.9 * result.shape[0])\n",
    "print(row)\n",
    "\n",
    "train = result[:int(row), :]\n",
    "np.random.shuffle(train)\n",
    "x_train = train[:, :-1]\n",
    "y_train = train[:, -1]\n",
    "\n",
    "x_test = result[int(row):, :-1]\n",
    "y_test = result[int(row):, -1]\n",
    "print(x_train[:2])\n",
    "\n",
    "x_train = np.reshape(x_train, (x_train.shape[0], x_train.shape[1], 1))\n",
    "x_test = np.reshape(x_test, (x_test.shape[0], x_test.shape[1], 1))\n",
    "print(x_train[:2])"
   ]
  },
  {
   "cell_type": "code",
   "execution_count": 35,
   "metadata": {},
   "outputs": [
    {
     "name": "stdout",
     "output_type": "stream",
     "text": [
      "compilation time :  0.0656745433807373\n"
     ]
    }
   ],
   "source": [
    "#Step 2 Build Model\n",
    "model = Sequential()\n",
    "\n",
    "model.add(LSTM(\n",
    "    input_dim=1,\n",
    "    output_dim=50,\n",
    "    return_sequences=True))\n",
    "model.add(Dropout(0.5))\n",
    "\n",
    "model.add(LSTM(\n",
    "    100,\n",
    "    return_sequences=False))\n",
    "model.add(Dropout(0.5))\n",
    "\n",
    "model.add(Dense(\n",
    "    output_dim=1))\n",
    "model.add(Activation('linear'))\n",
    "\n",
    "start = time.time()\n",
    "model.compile(loss='mse', optimizer='rmsprop')\n",
    "print ('compilation time : ', time.time() - start)"
   ]
  },
  {
   "cell_type": "code",
   "execution_count": 85,
   "metadata": {},
   "outputs": [
    {
     "name": "stdout",
     "output_type": "stream",
     "text": [
      "Train on 3523 samples, validate on 186 samples\n",
      "Epoch 1/5\n",
      "3523/3523 [==============================] - 7s - loss: 6.5897e-04 - val_loss: 7.1564e-04\n",
      "Epoch 2/5\n",
      "3523/3523 [==============================] - 7s - loss: 8.0772e-04 - val_loss: 4.5525e-04\n",
      "Epoch 3/5\n",
      "3523/3523 [==============================] - 7s - loss: 5.7793e-04 - val_loss: 5.4226e-04\n",
      "Epoch 4/5\n",
      "3523/3523 [==============================] - 6s - loss: 6.4579e-04 - val_loss: 4.5354e-04\n",
      "Epoch 5/5\n",
      "3523/3523 [==============================] - 6s - loss: 5.6029e-04 - val_loss: 3.4884e-04\n"
     ]
    },
    {
     "data": {
      "text/plain": [
       "<keras.callbacks.History at 0x2449ad6a5c0>"
      ]
     },
     "execution_count": 85,
     "metadata": {},
     "output_type": "execute_result"
    }
   ],
   "source": [
    "#Step 3 Train the model\n",
    "model.fit(\n",
    "    x_train,\n",
    "    y_train,\n",
    "    batch_size=512,\n",
    "    nb_epoch=5,\n",
    "    validation_split=0.05)"
   ]
  },
  {
   "cell_type": "code",
   "execution_count": 82,
   "metadata": {},
   "outputs": [
    {
     "data": {
      "text/plain": [
       "412"
      ]
     },
     "execution_count": 82,
     "metadata": {},
     "output_type": "execute_result"
    }
   ],
   "source": [
    "len(x_test)"
   ]
  },
  {
   "cell_type": "code",
   "execution_count": 97,
   "metadata": {},
   "outputs": [
    {
     "name": "stdout",
     "output_type": "stream",
     "text": [
      "0.4878048780487805\n"
     ]
    }
   ],
   "source": [
    "#Step 4 - Plot the predictions!\n",
    "window_size = 50\n",
    "prediction_len = 5\n",
    "#Predict sequence of 50 steps before shifting prediction run forward by 50 steps\n",
    "prediction_seqs = []\n",
    "for i in range(int(len(x_test)/prediction_len)):\n",
    "    curr_frame = x_test[i*prediction_len]\n",
    "    predicted = []\n",
    "    for j in range(1):\n",
    "        predicted.append(model.predict(curr_frame[newaxis,:,:])[0,0])\n",
    "        curr_frame = curr_frame[1:]\n",
    "        curr_frame = np.insert(curr_frame, [window_size-1], predicted[-1], axis=0)\n",
    "    prediction_seqs.append(predicted)\n",
    "predictions = prediction_seqs\n",
    "\n",
    "correct = 0\n",
    "for i in range(int(len(x_test)/prediction_len)):\n",
    "    last_frame = i * prediction_len\n",
    "    difference_true = y_test[last_frame+1] - y_test[last_frame]\n",
    "    difference_predict = predictions[i][0] - y_test[last_frame]\n",
    "    if (difference_true>0 and difference_predict >0) or (difference_true<0 and difference_predict<0):\n",
    "        correct += 1\n",
    "print(float(correct/len(predictions)))\n",
    "\n"
   ]
  },
  {
   "cell_type": "code",
   "execution_count": 99,
   "metadata": {},
   "outputs": [
    {
     "name": "stdout",
     "output_type": "stream",
     "text": [
      "yo\n"
     ]
    },
    {
     "data": {
      "image/png": "[encoded data removed]",
      "text/plain": [
       "<matplotlib.figure.Figure at 0x244979b0828>"
      ]
     },
     "metadata": {},
     "output_type": "display_data"
    }
   ],
   "source": [
    "fig = plt.figure(facecolor='white')\n",
    "ax = fig.add_subplot(111)\n",
    "ax.plot(y_test, label='True Data')\n",
    "print('yo')\n",
    "#Pad the list of predictions to shift it in the graph to it's correct start\n",
    "for i, data in enumerate(predictions):\n",
    "    padding = [None for p in range(i * prediction_len-1)]\n",
    "    plt.plot(padding + [y_test[i*prediction_len-1]] + data, label='')\n",
    "    plt.legend()\n",
    "plt.show()"
   ]
  },
  {
   "cell_type": "code",
   "execution_count": 88,
   "metadata": {},
   "outputs": [
    {
     "name": "stdout",
     "output_type": "stream",
     "text": [
      "[None, None, None, None, None, None, None, None, None]\n"
     ]
    }
   ],
   "source": [
    "test = [1,2,3,4,5,6,7,8,9]\n",
    "a = [None for x in range(9)]\n",
    "print(a)"
   ]
  },
  {
   "cell_type": "code",
   "execution_count": null,
   "metadata": {
    "collapsed": true
   },
   "outputs": [],
   "source": []
  }
 ],
 "metadata": {
  "kernelspec": {
   "display_name": "Python 3",
   "language": "python",
   "name": "python3"
  },
  "language_info": {
   "codemirror_mode": {
    "name": "ipython",
    "version": 3
   },
   "file_extension": ".py",
   "mimetype": "text/x-python",
   "name": "python",
   "nbconvert_exporter": "python",
   "pygments_lexer": "ipython3",
   "version": "3.5.3"
  }
 },
 "nbformat": 4,
 "nbformat_minor": 2
}
